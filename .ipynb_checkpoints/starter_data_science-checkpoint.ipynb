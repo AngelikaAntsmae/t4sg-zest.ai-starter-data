{
 "cells": [
  {
   "cell_type": "code",
   "execution_count": 10,
   "metadata": {},
   "outputs": [],
   "source": [
    "# Title: Data Science Starter Project\n",
    "# For: Incoming Data Science SWEs for Zest.ai\n",
    "# Written By: Christopher Ong, Senior SWE\n",
    "# Last Updated: Feb 9, 2021"
   ]
  },
  {
   "cell_type": "code",
   "execution_count": 11,
   "metadata": {},
   "outputs": [],
   "source": [
    "# Welcome to the Starter Project for Data Science at Zest.ai! This project is designed to give you some introductory\n",
    "# practice to the art of feature engineering.\n",
    "\n",
    "# Let's begin. The year is 1912 and the titanic has just crashed. Imagine that you are a data engineer on a team \n",
    "# that is in charge of analyzing the crash and investigating the patterns of survival, who got a lifeboat and why?\n",
    "# You have a raw dataset of a fraction of the passengers, and each entry contains the name of the passenger, \n",
    "# several other important pieces of personal information, and whether or not they survived the crash. \n",
    "\n",
    "# Let's take a look at the data:"
   ]
  },
  {
   "cell_type": "code",
   "execution_count": 12,
   "metadata": {},
   "outputs": [],
   "source": [
    "titanic_path = \"./train.csv\""
   ]
  },
  {
   "cell_type": "code",
   "execution_count": 13,
   "metadata": {},
   "outputs": [],
   "source": [
    "# Using the above file path. Load the csv data into a dataframe and take a look at the first and last few lines. \n",
    "# Google any commands that you are not familiar with."
   ]
  },
  {
   "cell_type": "code",
   "execution_count": null,
   "metadata": {},
   "outputs": [],
   "source": []
  },
  {
   "cell_type": "code",
   "execution_count": 14,
   "metadata": {},
   "outputs": [],
   "source": [
    "# Now, in theory, you could just jam this dataset into your favorite classifier and get a result. But the result\n",
    "# probably wouldn't be optimal. Why? Because there are a lot of hidden data features hidden within the raw data that\n",
    "# need to be extracted to be fully useful to a classifier.\n",
    "\n",
    "# For example, we know that in general, women and children were given first access to lifeboats... but we don't have\n",
    "# any raw data that gives the gender of each passenger, right? How might we extract the gender of the passengers\n",
    "# from the data set? Brainstorm this a little before moving on (b/c we're about to reveal the answer)"
   ]
  },
  {
   "cell_type": "code",
   "execution_count": null,
   "metadata": {},
   "outputs": [],
   "source": []
  },
  {
   "cell_type": "code",
   "execution_count": 15,
   "metadata": {},
   "outputs": [],
   "source": [
    "# You don't have the gender of each passenger, per se, but you do have their full name and title! And from those, you\n",
    "# might be able to extract the gender of each passenger! Try it out: see if you can add another column on the dataset\n",
    "# entitled \"gender\" containing the gender for each passenger. If the gender is unknown, you can mark that as well!"
   ]
  },
  {
   "cell_type": "code",
   "execution_count": null,
   "metadata": {},
   "outputs": [],
   "source": []
  },
  {
   "cell_type": "code",
   "execution_count": 1,
   "metadata": {},
   "outputs": [],
   "source": [
    "# Let's take it a step further. The titanic data commission wants to have the first and last name of each passenger\n",
    "# extracted for record keeping. See if you can create two new columns and populate them with the first and last names\n",
    "# of each passenger. If they have middle names, feel free to create additional columns.\n",
    "\n",
    "# HINT: this might be especially tricky for married women. Remember, that back in the 1910s, married women still went\n",
    "# by their husband's first and last names. See if you can find a way to get past that and populate the first and last\n",
    "# name columns with their real names, not their husbands'."
   ]
  },
  {
   "cell_type": "code",
   "execution_count": null,
   "metadata": {},
   "outputs": [],
   "source": []
  },
  {
   "cell_type": "code",
   "execution_count": 17,
   "metadata": {},
   "outputs": [],
   "source": [
    "# Now for the \"and children\" part... when determining whether or not they received a lifeboat, it's probably less\n",
    "# important their actual age than whether or not they were considered \"a child.\" Add another column to the dataframe\n",
    "# titled \"is_child\" that is a 1 if the passenger is 17 or younger and 0 if the passenger is 18 or older."
   ]
  },
  {
   "cell_type": "code",
   "execution_count": null,
   "metadata": {},
   "outputs": [],
   "source": []
  },
  {
   "cell_type": "code",
   "execution_count": 18,
   "metadata": {},
   "outputs": [],
   "source": [
    "# Finally, there's one last potential source of information. Take a look at the column \"Cabin.\" It contains the\n",
    "# the passenger's cabin number. Less important than the specific cabin number, however, is the fact that they had\n",
    "# a cabin at all! So let's create another column entitled \"has_cabin\" that is a 1 if the cabin number exists\n",
    "# and 0 if it does not."
   ]
  },
  {
   "cell_type": "code",
   "execution_count": null,
   "metadata": {},
   "outputs": [],
   "source": []
  },
  {
   "cell_type": "code",
   "execution_count": 19,
   "metadata": {},
   "outputs": [],
   "source": [
    "# Great job! You've completed the whole exercise! We're not going to go through the actual process of building the\n",
    "# classifier. Feel free to do that if you are so inclined! But this exercise was meant to be illustrative of the\n",
    "# importance of feature engineering and the creativity required. \n",
    "\n",
    "# For Zest.ai, we will be doing something very similar, except instead of engineering out names and cabins, we will\n",
    "# be engineering out features like gender, congressional district, zip code. Many of these features will be crucial\n",
    "# to the proper performance of Zest's classifier and some will require outside APIs and classifiers (for example\n",
    "# for inferring gender from a name). We are excited to begin this journey with you and hope that this introductory\n",
    "# project was rewarding and instructive!"
   ]
  },
  {
   "cell_type": "code",
   "execution_count": null,
   "metadata": {},
   "outputs": [],
   "source": []
  },
  {
   "cell_type": "code",
   "execution_count": null,
   "metadata": {},
   "outputs": [],
   "source": []
  }
 ],
 "metadata": {
  "kernelspec": {
   "display_name": "Python 3",
   "language": "python",
   "name": "python3"
  },
  "language_info": {
   "codemirror_mode": {
    "name": "ipython",
    "version": 3
   },
   "file_extension": ".py",
   "mimetype": "text/x-python",
   "name": "python",
   "nbconvert_exporter": "python",
   "pygments_lexer": "ipython3",
   "version": "3.8.0"
  }
 },
 "nbformat": 4,
 "nbformat_minor": 4
}
